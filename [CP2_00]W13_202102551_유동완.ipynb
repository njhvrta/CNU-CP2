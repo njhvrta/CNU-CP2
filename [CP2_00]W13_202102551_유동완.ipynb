{
  "nbformat": 4,
  "nbformat_minor": 0,
  "metadata": {
    "colab": {
      "provenance": [],
      "authorship_tag": "ABX9TyPIDZHI6Q990KsEzYUb0ZFH",
      "include_colab_link": true
    },
    "kernelspec": {
      "name": "python3",
      "display_name": "Python 3"
    },
    "language_info": {
      "name": "python"
    }
  },
  "cells": [
    {
      "cell_type": "markdown",
      "metadata": {
        "id": "view-in-github",
        "colab_type": "text"
      },
      "source": [
        "<a href=\"https://colab.research.google.com/github/njhvrta/CNU-CP2/blob/main/%5BCP2_00%5DW13_202102551_%EC%9C%A0%EB%8F%99%EC%99%84.ipynb\" target=\"_parent\"><img src=\"https://colab.research.google.com/assets/colab-badge.svg\" alt=\"Open In Colab\"/></a>"
      ]
    },
    {
      "cell_type": "code",
      "source": [
        "import pandas as pd\n",
        "import numpy as np\n",
        "import matplotlib.pyplot as plt\n",
        "\n",
        "data = {'sepal length(cm)' : [5.1, 4.9, 4.7, 4.9, 6.6, 5.2, 6.3, 5.8, 7.1],\n",
        "        'sepal width(cm)' : [3.5, 3, 3.2, 2.4, 2.9, 2.7, 3.3, 2.7, 3],\n",
        "        'petal length(cm)' : [1.4, 1.4, 1.3, 3.3, 4.6, 3.9, 6, 5.1, 5.9],\n",
        "        'petal width(cm)' : [0.2, 0.2, 0.2, 1, 1.3, 1.4, 2.5, 1.9, 2.1],\n",
        "        'target' : [0, 0, 0, 1, 1, 1, 2, 2, 2]}\n",
        "df = pd.DataFrame(data)\n",
        "mean_by_target = df.groupby('target').mean()\n",
        "\n",
        "plt.plot(mean_by_target['sepal length(cm)'], label='sepal_length_data', color='red', linestyle='-', marker='o')\n",
        "plt.plot(mean_by_target['sepal width(cm)'], label='sepal_width_data', color='green', linestyle='--', marker='x')\n",
        "plt.plot(mean_by_target['petal length(cm)'], label='petal_length_data', color='cyan', linestyle='-.', marker='+')\n",
        "plt.plot(mean_by_target['petal width(cm)'], label='petal_width_data', color='black', linestyle=':', marker='v')\n",
        "plt.xlabel('Target')\n",
        "plt.ylabel('Average/cm')\n",
        "plt.xticks(range(3), ['target0', 'target1', 'target2'])\n",
        "plt.legend(ncol=2)\n",
        "plt.show()"
      ],
      "metadata": {
        "id": "0AJT4gXxmxK1"
      },
      "execution_count": null,
      "outputs": []
    },
    {
      "cell_type": "code",
      "source": [
        "import pandas as pd\n",
        "import numpy as np\n",
        "import matplotlib.pyplot as plt\n",
        "\n",
        "data = {'sepal length(cm)' : [5.1, 4.9, 4.7, 4.9, 6.6, 5.2, 6.3, 5.8, 7.1],\n",
        "        'sepal width(cm)' : [3.5, 3, 3.2, 2.4, 2.9, 2.7, 3.3, 2.7, 3],\n",
        "        'petal length(cm)' : [1.4, 1.4, 1.3, 3.3, 4.6, 3.9, 6, 5.1, 5.9],\n",
        "        'petal width(cm)' : [0.2, 0.2, 0.2, 1, 1.3, 1.4, 2.5, 1.9, 2.1],\n",
        "        'target' : [0, 0, 0, 1, 1, 1, 2, 2, 2]}\n",
        "df = pd.DataFrame(data)\n",
        "mean_by_target = df.groupby(by=['target'], as_index=False).mean()\n",
        "\n",
        "y1_data = mean_by_target.iloc[0, 1:5].to_numpy()\n",
        "y2_data = mean_by_target.iloc[1, 1:5].to_numpy()\n",
        "y3_data = mean_by_target.iloc[2, 1:5].to_numpy()\n",
        "values = ['sepal length(cm)', 'sepal width(cm)', 'petal length(cm)', 'petal width(cm)']\n",
        "x = np.arange(len(values))\n",
        "\n",
        "plt.bar(x, y1_data, color = 'red', width=0.1, label='target0')\n",
        "plt.bar(x+0.2, y2_data, color = 'blue', width=0.1, label='target1')\n",
        "plt.bar(x+0.4, y3_data, color = 'green', width=0.1, label='target2')\n",
        "plt.xticks(x+0.2)\n",
        "plt.legend(loc='upper right')\n",
        "plt.show()"
      ],
      "metadata": {
        "id": "0mD9KRbBB8Q0"
      },
      "execution_count": null,
      "outputs": []
    }
  ]
}