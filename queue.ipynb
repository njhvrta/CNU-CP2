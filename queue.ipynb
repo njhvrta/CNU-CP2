{
  "nbformat": 4,
  "nbformat_minor": 0,
  "metadata": {
    "colab": {
      "provenance": [],
      "authorship_tag": "ABX9TyMmXQ7TUL+RQt3YeNwUUjbv",
      "include_colab_link": true
    },
    "kernelspec": {
      "name": "python3",
      "display_name": "Python 3"
    },
    "language_info": {
      "name": "python"
    }
  },
  "cells": [
    {
      "cell_type": "markdown",
      "metadata": {
        "id": "view-in-github",
        "colab_type": "text"
      },
      "source": [
        "<a href=\"https://colab.research.google.com/github/njhvrta/CNU-CP2/blob/main/queue.ipynb\" target=\"_parent\"><img src=\"https://colab.research.google.com/assets/colab-badge.svg\" alt=\"Open In Colab\"/></a>"
      ]
    },
    {
      "cell_type": "code",
      "execution_count": null,
      "metadata": {
        "id": "jZHFzjAO7-4W"
      },
      "outputs": [],
      "source": [
        "from shutil import ReadError\n",
        "def isQueueFull():\n",
        "    global SIZE, queue, front, rear\n",
        "    if(rear != SIZE-1):\n",
        "        return False\n",
        "    elif(rear == SIZE-1) and (front == -1):\n",
        "        return True\n",
        "    else:\n",
        "        for i in range(front+1, SIZE):\n",
        "            queue[i-1] = queue[i]\n",
        "            queue[i] = None\n",
        "        front -= 1\n",
        "        rear -= 1\n",
        "        return False\n",
        "\n",
        "def isQueueEmpty():\n",
        "    global SIZE, queue, front, rear\n",
        "    if(front == rear):\n",
        "        return True\n",
        "    else:\n",
        "        return False\n",
        "\n",
        "def enQueue(data):\n",
        "    global SIZE, queue, front, rear\n",
        "    if(isQueueFull()):\n",
        "        print(\"큐가 꽉 찼습니다.\")\n",
        "        return\n",
        "    rear += 1\n",
        "    queue[rear] = data\n",
        "\n",
        "def deQueue():\n",
        "    global SIZE, queue, front, rear\n",
        "    if(isQueueEmpty()):\n",
        "        print(\"큐가 비었습니다.\")\n",
        "        return None\n",
        "    front += 1\n",
        "    data =queue[front]\n",
        "    queue[front] = None\n",
        "    return data\n",
        "\n",
        "def peek():\n",
        "    global SIZE, queue, front, rear\n",
        "    if(isQueueEmpty()):\n",
        "        print(\"큐가 비었습니다.\")\n",
        "        return None\n",
        "    return queue[front+1]\n",
        "\n",
        "SIZE = int(input(\"큐 크기를 입력하세요 ==> \"))\n",
        "queue = [None for _ in range(SIZE)]\n",
        "front = rear = -1\n",
        "\n",
        "if __name__ == \"__main__\":\n",
        "    select = input(\"삽입(I)/추출(E)/확인(V)/종료(X) 중 하나를 선택 ==> \")\n",
        "\n",
        "    while(select != 'X' and select != 'x'):\n",
        "        if select == 'I' or select == 'i':\n",
        "            data = input(\"입력할 데이터 ==> \")\n",
        "            enQueue(data)\n",
        "            print(\"큐 상태 : \", queue)\n",
        "        elif select == 'E' or select == 'e':\n",
        "            data = deQueue()\n",
        "            print(\"추출된 데이터 ==> \", data)\n",
        "        elif select =='V' or select == 'v':\n",
        "            data = peek()\n",
        "            print(\"확인된 데이터 ==> \", data)\n",
        "            print(\"큐 상태 : \", queue)\n",
        "        else:\n",
        "            print(\"입력이 잘못됨\")\n",
        "\n",
        "        select = input(\"삽입(I)/추출(E)/확인(V)/종료(X) 중 하나를 선택 ==> \")\n",
        "\n",
        "    print(\"프로그램 종료!\")"
      ]
    }
  ]
}